{
 "cells": [
  {
   "cell_type": "markdown",
   "id": "f9f04e6e",
   "metadata": {},
   "source": [
    "# Using euclidean's Algorithm"
   ]
  },
  {
   "cell_type": "code",
   "execution_count": 4,
   "id": "b523062e",
   "metadata": {},
   "outputs": [
    {
     "name": "stdout",
     "output_type": "stream",
     "text": [
      "Program to find GCD of Two numbers\n",
      "1. By Using Euclid's Algorithm\n",
      "Enter the first number = 12\n",
      "Enter the second number = 33\n",
      "GCD of two numbers is : 3 \n",
      "2. By using Consicutive Integer Checking \n",
      "GCD of two numbers is : 3 \n"
     ]
    }
   ],
   "source": [
    "def gcde(m,n):\n",
    "    if m<n:\n",
    "        (m,n)=(n,m)\n",
    "        while n!=0:\n",
    "            r=m%n\n",
    "            m=n\n",
    "            n=r\n",
    "    return m\n",
    "\n",
    "def gcdc(m,n):\n",
    "    \n",
    "    t=min(m,n)\n",
    "    while t>0:\n",
    "        if m%t==0 and n%t==0:\n",
    "            return t\n",
    "        else:\n",
    "            t=t-1\n",
    "\n",
    "\n",
    "print(\"Program to find GCD of Two numbers\")\n",
    "\n",
    "print(\"1. By Using Euclid's Algorithm\")\n",
    "\n",
    "m=int(input(\"Enter the first number = \"))\n",
    "n=int(input(\"Enter the second number = \"))\n",
    "\n",
    "print(f\"GCD of two numbers is : {gcde(m,n)} \")\n",
    "print(\"2. By using Consicutive Integer Checking \")\n",
    "print(f\"GCD of two numbers is : {gcdc(m,n)} \")\n",
    "\n",
    "\n"
   ]
  },
  {
   "cell_type": "code",
   "execution_count": null,
   "id": "7fd68659",
   "metadata": {},
   "outputs": [],
   "source": []
  },
  {
   "cell_type": "markdown",
   "id": "5a2f5cb6",
   "metadata": {},
   "source": [
    "# Merge Sort"
   ]
  },
  {
   "cell_type": "code",
   "execution_count": 6,
   "id": "88a8614a",
   "metadata": {},
   "outputs": [
    {
     "name": "stdout",
     "output_type": "stream",
     "text": [
      "[1, 2, 3, 4, 5, 6, 7, 8, 9]\n"
     ]
    }
   ],
   "source": [
    "def merge_sort(arr):\n",
    "    \n",
    "    if len(arr) < 2:\n",
    "        return arr\n",
    "    \n",
    "    mid = len(arr)//2\n",
    "    left = merge_sort(arr[:mid])\n",
    "    right = merge_sort(arr[mid:])\n",
    "    \n",
    "    return merge(left,right)\n",
    "\n",
    "\n",
    "\n",
    "def merge(left,right):\n",
    "    result = []\n",
    "    i , j = 0,0\n",
    "    while i < len(left) or j < len(right):\n",
    "        if left[i]<=right[j]:\n",
    "            result.append(left[i])\n",
    "            i+=1\n",
    "        else:\n",
    "            result.append(right[j])\n",
    "            j+=1\n",
    "        \n",
    "        if i == len(left) or j == len(right):\n",
    "            result.extend(left[i:] or right[j:])\n",
    "            break\n",
    "            \n",
    "    return result\n",
    "\n",
    "\n",
    "test = [2,3,9,8,7,6,5,4,1]\n",
    "\n",
    "print(merge_sort(test))"
   ]
  },
  {
   "cell_type": "markdown",
   "id": "f5980828",
   "metadata": {},
   "source": []
  },
  {
   "cell_type": "code",
   "execution_count": 1,
   "id": "553a1d3f",
   "metadata": {},
   "outputs": [],
   "source": [
    "# MERGE SORT PRACTICE"
   ]
  },
  {
   "cell_type": "code",
   "execution_count": 7,
   "id": "132d6da5",
   "metadata": {},
   "outputs": [
    {
     "name": "stdout",
     "output_type": "stream",
     "text": [
      "[2, 3, 5, 6, 7, 8]\n"
     ]
    }
   ],
   "source": [
    "def merge_sort(arr):\n",
    "\n",
    "    if len(arr) < 2:\n",
    "        return arr\n",
    "    \n",
    "    mid = len(arr)//2\n",
    "    left = merge_sort(arr[mid:])\n",
    "    right = merge_sort(arr[:mid])\n",
    "\n",
    "    return merge(left,right)\n",
    "\n",
    "\n",
    "\n",
    "def merge(left,right):\n",
    "    result = []\n",
    "    i,j=0,0\n",
    "\n",
    "    while i < len(left) and j < len(right):\n",
    "\n",
    "        if left[i]<=right[j]:\n",
    "            result.append(left[i])\n",
    "            i+=1\n",
    "        else:\n",
    "            result.append(right[j])\n",
    "            j+=1\n",
    "        if i==len(left) or j==len(right):\n",
    "            result.extend(left[i:] or right[j:])\n",
    "            break\n",
    "    return result\n",
    "\n",
    "\n",
    "test = [7,8,6,3,2,5]\n",
    "\n",
    "print(merge_sort(test))"
   ]
  },
  {
   "cell_type": "code",
   "execution_count": 3,
   "id": "dbb41a81",
   "metadata": {},
   "outputs": [
    {
     "name": "stdout",
     "output_type": "stream",
     "text": [
      "Enter the text:she sells sea shells\n",
      "Enter the pattern:sells\n",
      "Pattern found at index  4\n"
     ]
    }
   ],
   "source": [
    "def search(pat, txt):\n",
    "    M = len(pat)\n",
    "    N = len(txt)\n",
    "# A loop to slide pat[] one by one */\n",
    "    for i in range(N - M + 1):\n",
    "        j = 0\n",
    "# For current index i, check # for pattern match */\n",
    "        while (j < M):\n",
    "            if (txt[i + j] != pat[j]):\n",
    "                break\n",
    "            j += 1\n",
    "        if (j == M):\n",
    "            print(\"Pattern found at index \", i)\n",
    " \n",
    " \n",
    "if __name__ == '__main__':\n",
    "    txt = input(\"Enter the text:\")\n",
    "pat = input(\"Enter the pattern:\")\n",
    "search(pat, txt)"
   ]
  },
  {
   "cell_type": "markdown",
   "id": "65a60027",
   "metadata": {},
   "source": [
    "#QUICK SORT"
   ]
  },
  {
   "cell_type": "code",
   "execution_count": 12,
   "id": "cd4317ed",
   "metadata": {},
   "outputs": [
    {
     "name": "stdout",
     "output_type": "stream",
     "text": [
      "[1, 2, 3, 5, 7, 8]\n"
     ]
    }
   ],
   "source": [
    "def quick_sort(sequence):\n",
    "    length = len(sequence)\n",
    "    if length < 1:\n",
    "        return sequence\n",
    "    else:\n",
    "        pivot = sequence.pop()\n",
    "\n",
    "    items_greater = []\n",
    "    items_lower = []\n",
    "\n",
    "    for item in sequence:\n",
    "        if item > pivot:\n",
    "            items_greater.append(item)\n",
    "\n",
    "        else:\n",
    "            items_lower.append(item)\n",
    "\n",
    "    return quick_sort(items_lower) + [pivot] + quick_sort(items_greater)\n",
    "\n",
    "print(quick_sort([5,2,3,7,1,8]))"
   ]
  },
  {
   "cell_type": "code",
   "execution_count": 14,
   "id": "882ba066",
   "metadata": {},
   "outputs": [],
   "source": [
    "#QUICK SORT PRACTICE"
   ]
  },
  {
   "cell_type": "code",
   "execution_count": 18,
   "id": "091c50b1",
   "metadata": {},
   "outputs": [
    {
     "name": "stdout",
     "output_type": "stream",
     "text": [
      "[2, 3, 5, 8, 21, 30, 78]\n"
     ]
    }
   ],
   "source": [
    "def quick(arr):\n",
    "\n",
    "    if len(arr) < 1:\n",
    "        return arr\n",
    "    else:\n",
    "        pivot = arr.pop()\n",
    "\n",
    "    low = []\n",
    "    high = []\n",
    "\n",
    "    for i in arr:\n",
    "\n",
    "        if i > pivot:\n",
    "            high.append(i)\n",
    "        else:\n",
    "            low.append(i)\n",
    "\n",
    "    return quick(low) + [pivot] + quick(high)\n",
    "\n",
    "test = [5,78,30,21,8,3,2]\n",
    "\n",
    "print(quick(test))"
   ]
  },
  {
   "cell_type": "markdown",
   "id": "a9a72451",
   "metadata": {},
   "source": [
    "# Prim's Algorithm"
   ]
  },
  {
   "cell_type": "code",
   "execution_count": null,
   "id": "fdbad4e7",
   "metadata": {},
   "outputs": [],
   "source": [
    "# Prim's Algorithm in Python\n",
    "\n",
    "\n",
    "INF = 9999999\n",
    "# number of vertices in graph\n",
    "V = 5\n",
    "# create a 2d array of size 5x5\n",
    "# for adjacency matrix to represent graph\n",
    "G = [[0, 9, 75, 0, 0],\n",
    "     [9, 0, 95, 19, 42],\n",
    "     [75, 95, 0, 51, 66],\n",
    "     [0, 19, 51, 0, 31],\n",
    "     [0, 42, 66, 31, 0]]\n",
    "# create a array to track selected vertex\n",
    "# selected will become true otherwise false\n",
    "selected = [0, 0, 0, 0, 0]\n",
    "# set number of edge to 0\n",
    "no_edge = 0\n",
    "# the number of egde in minimum spanning tree will be\n",
    "# always less than(V - 1), where V is number of vertices in\n",
    "# graph\n",
    "# choose 0th vertex and make it true\n",
    "selected[0] = True\n",
    "# print for edge and weight\n",
    "print(\"Edge : Weight\\n\")\n",
    "while (no_edge < V - 1):\n",
    "    # For every vertex in the set S, find the all adjacent vertices\n",
    "    #, calculate the distance from the vertex selected at step 1.\n",
    "    # if the vertex is already in the set S, discard it otherwise\n",
    "    # choose another vertex nearest to selected vertex  at step 1.\n",
    "    minimum = INF\n",
    "    x = 0\n",
    "    y = 0\n",
    "    for i in range(V):\n",
    "        if selected[i]:\n",
    "            for j in range(V):\n",
    "                if ((not selected[j]) and G[i][j]):  \n",
    "                    # not in selected and there is an edge\n",
    "                    if minimum > G[i][j]:\n",
    "                        minimum = G[i][j]\n",
    "                        x = i\n",
    "                        y = j\n",
    "    print(str(x) + \"-\" + str(y) + \":\" + str(G[x][y]))\n",
    "    selected[y] = True\n",
    "    no_edge += 1"
   ]
  },
  {
   "cell_type": "code",
   "execution_count": 2,
   "id": "cbbf539e",
   "metadata": {},
   "outputs": [
    {
     "name": "stdout",
     "output_type": "stream",
     "text": [
      "Edge : weight\n",
      "\n",
      "0-2-:5\n",
      "2-3-:1\n",
      "3-4-:1\n",
      "4-1-:2\n"
     ]
    }
   ],
   "source": [
    "inf = 9999999\n",
    "\n",
    "v=5\n",
    "\n",
    "g = [[0, 19, 5, 0, 0],\n",
    "     [19, 0, 5, 9, 2],\n",
    "     [5, 5, 0, 1, 6],\n",
    "     [0, 9, 1, 0, 1],\n",
    "     [0, 2, 6, 1, 0]]\n",
    "\n",
    "selected = [0,0,0,0,0]\n",
    "\n",
    "no_edge = 0\n",
    "\n",
    "selected[0] = True\n",
    "\n",
    "print(\"Edge : weight\\n\")\n",
    "\n",
    "while no_edge < v-1:\n",
    "    minimum = inf\n",
    "    x = 0\n",
    "    y = 0\n",
    "    for i in range(v):\n",
    "        if selected[i]:\n",
    "            for j in range(v):\n",
    "                if((not selected[j]) and g[i][j]):\n",
    "                    \n",
    "                    if minimum > g[i][j]:\n",
    "                        minimum = g[i][j]\n",
    "                        x=i\n",
    "                        y=j\n",
    "    \n",
    "    print(str(x) + \"-\" +str(y)+ \"-\" + \":\" + str(g[x][y]))\n",
    "    selected[y]=True\n",
    "    no_edge+=1\n",
    "    "
   ]
  },
  {
   "cell_type": "code",
   "execution_count": 4,
   "id": "1231b66c",
   "metadata": {},
   "outputs": [
    {
     "name": "stdout",
     "output_type": "stream",
     "text": [
      "0-0-:0\n",
      "0-0-:0\n",
      "0-0-:0\n",
      "0-0-:0\n"
     ]
    }
   ],
   "source": [
    "inf = 9999999\n",
    "\n",
    "v=5\n",
    "\n",
    "g = [[0, 19, 5, 0, 0],\n",
    "     [19, 0, 5, 9, 2],\n",
    "     [5, 5, 0, 1, 6],\n",
    "     [0, 9, 1, 0, 1],\n",
    "     [0, 2, 6, 1, 0]]\n",
    "\n",
    "\n",
    "selected = [0,0,0,0,0]\n",
    "\n",
    "no_edge = 0\n",
    "\n",
    "while no_edge < v-1:\n",
    "     minimum = inf\n",
    "\n",
    "     x=0\n",
    "     y=0\n",
    "     for i in range(v):\n",
    "          if selected[i]:\n",
    "               for j in range(v):\n",
    "                    if((not selected[i] and g[i][j])):\n",
    "                         if minimum > g[i][j]:\n",
    "                              minimum = g[i][j]\n",
    "                              x=i\n",
    "                              y=j\n",
    "\n",
    "     print(str(x)+ \"-\" + str(y)+ \"-\" + \":\" + str(g[x][y]))\n",
    "     selected[y]=True\n",
    "     no_edge+=1\n",
    "\n",
    "\n"
   ]
  },
  {
   "cell_type": "code",
   "execution_count": null,
   "id": "92ce892e",
   "metadata": {},
   "outputs": [],
   "source": []
  }
 ],
 "metadata": {
  "kernelspec": {
   "display_name": "Python 3 (ipykernel)",
   "language": "python",
   "name": "python3"
  },
  "language_info": {
   "codemirror_mode": {
    "name": "ipython",
    "version": 3
   },
   "file_extension": ".py",
   "mimetype": "text/x-python",
   "name": "python",
   "nbconvert_exporter": "python",
   "pygments_lexer": "ipython3",
   "version": "3.7.2"
  },
  "vscode": {
   "interpreter": {
    "hash": "0765f58d9263396564f9928b2021b79023c0dc5ff039ca1efdd0a5f3dc35926d"
   }
  }
 },
 "nbformat": 4,
 "nbformat_minor": 5
}
